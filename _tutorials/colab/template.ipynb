{
  "nbformat": 4,
  "nbformat_minor": 0,
  "metadata": {
    "colab": {
      "name": "template.ipynb",
      "provenance": [],
      "collapsed_sections": []
    },
    "kernelspec": {
      "name": "python3",
      "display_name": "Python 3"
    }
  },
  "cells": [
    {
      "cell_type": "markdown",
      "metadata": {
        "id": "tcIZpYAUp_6C"
      },
      "source": [
        "# Header"
      ]
    },
    {
      "cell_type": "code",
      "metadata": {
        "id": "irI73Z_Tp5eC"
      },
      "source": [
        "# Import my own repos\n",
        "for repo in ['ml_inspector', 'ml_utils']:\n",
        "  !git clone https://github.com/mahynski/$repo\n",
        "  !cd $repo/; pip install -r requirements.txt\n",
        "from . import *"
      ],
      "execution_count": null,
      "outputs": []
    },
    {
      "cell_type": "code",
      "metadata": {
        "id": "G0ZnseZyrI3O"
      },
      "source": [
        "import numpy\n",
        "import scipy\n",
        "import matplotlib.pyplot as plt\n",
        "%matplotlib inline\n",
        "import numba\n",
        "import pandas\n",
        "import sklearn"
      ],
      "execution_count": 3,
      "outputs": []
    },
    {
      "cell_type": "code",
      "metadata": {
        "id": "ezRksGo-pIza"
      },
      "source": [
        "# Cython is always nice to have; see https://cython.readthedocs.io/en/latest/src/quickstart/build.html\n",
        "%load_ext Cython"
      ],
      "execution_count": 42,
      "outputs": []
    },
    {
      "cell_type": "code",
      "metadata": {
        "id": "ze-lMxoPmsGY"
      },
      "source": [
        "# Reload modules automatically if updated\n",
        "%load_ext autoreload\n",
        "%autoreload 2"
      ],
      "execution_count": 28,
      "outputs": []
    },
    {
      "cell_type": "code",
      "metadata": {
        "id": "r9rk5Zo9m7Gi"
      },
      "source": [
        "# This will list all the packages you have imported and their versions for reproducibility\n",
        "!pip install watermark\n",
        "%load_ext watermark\n",
        "%watermark -t -m -h -v --iversions"
      ],
      "execution_count": null,
      "outputs": []
    },
    {
      "cell_type": "code",
      "metadata": {
        "colab": {
          "base_uri": "https://localhost:8080/"
        },
        "id": "k-qgpEPUoAo6",
        "outputId": "a7353798-dc06-4020-9073-1b78f928e431"
      },
      "source": [
        "from google.colab import drive\n",
        "drive.mount('/gdrive')"
      ],
      "execution_count": 38,
      "outputs": [
        {
          "output_type": "stream",
          "text": [
            "Mounted at /gdrive\n"
          ],
          "name": "stdout"
        }
      ]
    },
    {
      "cell_type": "markdown",
      "metadata": {
        "id": "kf9qtBw7qPVj"
      },
      "source": [
        "# Begin Code Here..."
      ]
    },
    {
      "cell_type": "code",
      "metadata": {
        "id": "CeyGu6r-qTJq"
      },
      "source": [
        ""
      ],
      "execution_count": null,
      "outputs": []
    }
  ]
}